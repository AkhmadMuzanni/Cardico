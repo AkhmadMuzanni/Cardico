{
 "cells": [
  {
   "cell_type": "markdown",
   "metadata": {
    "colab_type": "text",
    "id": "view-in-github"
   },
   "source": [
    "<a href=\"https://colab.research.google.com/github/AkhmadMuzanni/TestingBangkit/blob/master/Notebook.ipynb\" target=\"_parent\"><img src=\"https://colab.research.google.com/assets/colab-badge.svg\" alt=\"Open In Colab\"/></a>"
   ]
  },
  {
   "cell_type": "markdown",
   "metadata": {
    "colab_type": "text",
    "id": "CNBhgZQmBIOo"
   },
   "source": [
    "# Cardiovascular Disease Classification"
   ]
  },
  {
   "cell_type": "markdown",
   "metadata": {
    "colab_type": "text",
    "id": "WKSHqDcRBWXU"
   },
   "source": [
    "## Import Library"
   ]
  },
  {
   "cell_type": "code",
   "execution_count": 7,
   "metadata": {
    "colab": {},
    "colab_type": "code",
    "id": "mbEP5FAwVksH"
   },
   "outputs": [],
   "source": [
    "import pandas as pd\n",
    "import numpy as np\n",
    "import os\n",
    "from sklearn.model_selection import train_test_split\n",
    "import tensorflow as tf\n",
    "from tensorflow import keras\n",
    "from tensorflow.keras.models import Sequential\n",
    "from tensorflow.keras.layers import Dense, Dropout\n",
    "from tensorflow.keras.optimizers import Adam, RMSprop\n",
    "from tensorflow.keras.utils import plot_model\n",
    "import matplotlib.pyplot as plt"
   ]
  },
  {
   "cell_type": "code",
   "execution_count": null,
   "metadata": {
    "colab": {},
    "colab_type": "code",
    "id": "JBa3fRqIvG-Q"
   },
   "outputs": [],
   "source": []
  },
  {
   "cell_type": "markdown",
   "metadata": {
    "colab_type": "text",
    "id": "Lqzk30FXcTPU"
   },
   "source": [
    "## Dataset"
   ]
  },
  {
   "cell_type": "markdown",
   "metadata": {
    "colab_type": "text",
    "id": "OeGqkbtXB-4_"
   },
   "source": [
    "### Download Dataset"
   ]
  },
  {
   "cell_type": "code",
   "execution_count": 8,
   "metadata": {
    "colab": {
     "base_uri": "https://localhost:8080/",
     "height": 309
    },
    "colab_type": "code",
    "id": "-UwnvO67VvqO",
    "outputId": "2807cfb3-bf02-4e97-f456-1a43b6352ea2"
   },
   "outputs": [
    {
     "name": "stderr",
     "output_type": "stream",
     "text": [
      "'wget' is not recognized as an internal or external command,\n",
      "operable program or batch file.\n"
     ]
    }
   ],
   "source": [
    "!wget https://github.com/AkhmadMuzanni/TestingBangkit/releases/download/1/cardio_train.csv"
   ]
  },
  {
   "cell_type": "markdown",
   "metadata": {
    "colab_type": "text",
    "id": "-c_KoXUCBa6B"
   },
   "source": [
    "### Load Dataset"
   ]
  },
  {
   "cell_type": "code",
   "execution_count": null,
   "metadata": {
    "colab": {},
    "colab_type": "code",
    "id": "RvSHbCOIWQ66"
   },
   "outputs": [],
   "source": [
    "dataset = pd.read_csv(\"cardio_train.csv\")"
   ]
  },
  {
   "cell_type": "markdown",
   "metadata": {
    "colab_type": "text",
    "id": "sG2UxUMrBfTj"
   },
   "source": [
    "### Drop Unecessary Column"
   ]
  },
  {
   "cell_type": "code",
   "execution_count": null,
   "metadata": {
    "colab": {},
    "colab_type": "code",
    "id": "FcfKuwVAWaRp"
   },
   "outputs": [],
   "source": [
    "data_train = dataset.drop([\"id\"], 1)"
   ]
  },
  {
   "cell_type": "markdown",
   "metadata": {
    "colab_type": "text",
    "id": "75MeYaYWBpTZ"
   },
   "source": [
    "### Normalize Dataset"
   ]
  },
  {
   "cell_type": "code",
   "execution_count": null,
   "metadata": {
    "colab": {},
    "colab_type": "code",
    "id": "73BWXQcMZcJa"
   },
   "outputs": [],
   "source": [
    "# fix weight value\n",
    "weight = []\n",
    "for w in data_train[\"weight\"]:\n",
    "  weight.append(int(w.split('.')[0]))"
   ]
  },
  {
   "cell_type": "code",
   "execution_count": null,
   "metadata": {
    "colab": {},
    "colab_type": "code",
    "id": "znxLZDeTZdCm"
   },
   "outputs": [],
   "source": [
    "# drop weight column and put new weight column\n",
    "data_train = data_train.drop([\"weight\"], 1)\n",
    "data_train[\"weight\"] = weight"
   ]
  },
  {
   "cell_type": "markdown",
   "metadata": {
    "colab_type": "text",
    "id": "IbtiC2ISp-Mm"
   },
   "source": [
    "### Remove Inconsistent Data"
   ]
  },
  {
   "cell_type": "code",
   "execution_count": null,
   "metadata": {
    "colab": {},
    "colab_type": "code",
    "id": "ll3A1imgc3P5"
   },
   "outputs": [],
   "source": [
    "# hapus yang heightnya diatas 220\n",
    "data_train = data_train.drop(data_train[data_train.height > 220].index)\n",
    "# hapus yg ap_hi diatas 250\n",
    "data_train = data_train.drop(data_train[data_train.ap_hi > 250].index)\n",
    "# hapus yg ap_low diatas 200\n",
    "data_train = data_train.drop(data_train[data_train.ap_lo > 200].index)"
   ]
  },
  {
   "cell_type": "code",
   "execution_count": null,
   "metadata": {
    "colab": {
     "base_uri": "https://localhost:8080/",
     "height": 399
    },
    "colab_type": "code",
    "id": "i20DY7IcqTqB",
    "outputId": "9cfdddb5-e684-4155-9f10-bd380402b3d8"
   },
   "outputs": [],
   "source": [
    "data_train"
   ]
  },
  {
   "cell_type": "markdown",
   "metadata": {
    "colab_type": "text",
    "id": "Fsd8HbxYq5qs"
   },
   "source": [
    "### Split Data Train and Test"
   ]
  },
  {
   "cell_type": "code",
   "execution_count": null,
   "metadata": {
    "colab": {},
    "colab_type": "code",
    "id": "cvwiG0sBq2Ln"
   },
   "outputs": [],
   "source": [
    "# get label\n",
    "label = data_train[\"cardio\"]\n",
    "# drop label column\n",
    "data_train = data_train.drop(\"cardio\", 1)\n",
    "# convert to numpy array\n",
    "label = np.array(label)\n",
    "data_train = np.array(data_train)"
   ]
  },
  {
   "cell_type": "code",
   "execution_count": null,
   "metadata": {
    "colab": {},
    "colab_type": "code",
    "id": "MhtfOZvIrKdl"
   },
   "outputs": [],
   "source": [
    "# Normalize Dataset (0 - 1)\n",
    "max_vals = np.max(data_train, 0)\n",
    "data_train = data_train / max_vals"
   ]
  },
  {
   "cell_type": "code",
   "execution_count": null,
   "metadata": {
    "colab": {
     "base_uri": "https://localhost:8080/",
     "height": 51
    },
    "colab_type": "code",
    "id": "MZgIe8a9rw4L",
    "outputId": "42045699-23f9-48dc-dd53-6228442a478d"
   },
   "outputs": [],
   "source": [
    "# Split Train and Test\n",
    "X_train, x_test, Y_train, y_test = train_test_split(data_train, label, test_size=0.3) # 30% data test\n",
    "print(\"Train shape:\", X_train.shape)\n",
    "print(\"Test shape:\", x_test.shape)"
   ]
  },
  {
   "cell_type": "markdown",
   "metadata": {},
   "source": [
    "## Build Multi Layer Perceptron (MLP) Model"
   ]
  },
  {
   "cell_type": "markdown",
   "metadata": {},
   "source": [
    "### Initialize Parameter"
   ]
  },
  {
   "cell_type": "code",
   "execution_count": null,
   "metadata": {},
   "outputs": [],
   "source": [
    "input_dim = X_train.shape[1] # jumlah atribut\n",
    "output_dim = 1 # karena binary\n",
    "lr = 0.0001\n",
    "optimizer = RMSprop(learning_rate=lr)\n",
    "batch_size = 512\n",
    "epochs = 150"
   ]
  },
  {
   "cell_type": "markdown",
   "metadata": {},
   "source": [
    "### Build Model"
   ]
  },
  {
   "cell_type": "code",
   "execution_count": null,
   "metadata": {},
   "outputs": [],
   "source": [
    "model = Sequential([\n",
    "          # Dense layer with 100 neuron, input shape and relu activation function\n",
    "          Dense(100, input_shape=(input_dim,), activation='relu'),\n",
    "          # Dropout layer with 0.5 probability\n",
    "          Dropout(0.5),\n",
    "          # Dense layer with 200 neuron and relu activation function\n",
    "          Dense(200, activation='relu'),\n",
    "          # Dropout layer with 0.5 probability\n",
    "          Dropout(0.5),\n",
    "          # Dense layer with 100 neuron and relu activation function\n",
    "          Dense(100, activation='relu'),\n",
    "          # Dropout layer with 0.5 probability\n",
    "          Dropout(0.5),\n",
    "          # Dense layer with 100 neuron and sigmoid activation function\n",
    "          Dense(output_dim, activation='sigmoid')\n",
    "], name=\"cardionet\")"
   ]
  },
  {
   "cell_type": "markdown",
   "metadata": {},
   "source": [
    "### Visualize Model"
   ]
  },
  {
   "cell_type": "code",
   "execution_count": null,
   "metadata": {},
   "outputs": [],
   "source": [
    "plot_model(model,\n",
    "           to_file=model.name+'.png', \n",
    "           show_shapes=True, \n",
    "           show_layer_names=False,\n",
    "           rankdir='LR',\n",
    "           dpi=70\n",
    "          )"
   ]
  },
  {
   "cell_type": "markdown",
   "metadata": {},
   "source": [
    "### Compile Model"
   ]
  },
  {
   "cell_type": "code",
   "execution_count": null,
   "metadata": {},
   "outputs": [],
   "source": [
    "model.summary()"
   ]
  },
  {
   "cell_type": "code",
   "execution_count": null,
   "metadata": {},
   "outputs": [],
   "source": [
    "model.compile(optimizer=optimizer, loss='binary_crossentropy', metrics=['accuracy'])"
   ]
  }
 ],
 "metadata": {
  "colab": {
   "include_colab_link": true,
   "name": "Untitled0.ipynb",
   "provenance": []
  },
  "kernelspec": {
   "display_name": "Python 3",
   "language": "python",
   "name": "python3"
  },
  "language_info": {
   "codemirror_mode": {
    "name": "ipython",
    "version": 3
   },
   "file_extension": ".py",
   "mimetype": "text/x-python",
   "name": "python",
   "nbconvert_exporter": "python",
   "pygments_lexer": "ipython3",
   "version": "3.8.1"
  }
 },
 "nbformat": 4,
 "nbformat_minor": 1
}
